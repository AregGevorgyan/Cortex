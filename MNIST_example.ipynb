{
 "cells": [
  {
   "cell_type": "markdown",
   "id": "c6aa8488",
   "metadata": {},
   "source": [
    "# MNIST Example Usage\n",
    "\n",
    "I'm using the extended QMNIST datset you can find it in the repo: https://github.com/facebookresearch/qmnist"
   ]
  },
  {
   "cell_type": "code",
   "execution_count": null,
   "id": "9598dae5",
   "metadata": {},
   "outputs": [],
   "source": [
    "import struct\n",
    "\n",
    "import numpy as np\n",
    "import matplotlib.pyplot as plt\n",
    "\n",
    "from src.cortex import NeuralNetwork, Dense, ReLU, Softmax, CrossEntropyLoss, Optimizer"
   ]
  },
  {
   "cell_type": "code",
   "execution_count": null,
   "id": "e142c3a7",
   "metadata": {},
   "outputs": [],
   "source": [
    "def load_idx3_images(filename, normalize=True):\n",
    "    \"\"\"\n",
    "    Load images from an IDX3 file into a NumPy array of shape (num_images, rows, cols).\n",
    "    \"\"\"\n",
    "    with open(filename, 'rb') as f:\n",
    "        magic, num_images, rows, cols = struct.unpack(\">IIII\", f.read(16))\n",
    "        if magic != 2051:\n",
    "            raise ValueError(f\"Invalid magic number {magic} in IDX file: {filename}\")\n",
    "\n",
    "        data = np.frombuffer(f.read(), dtype=np.uint8)\n",
    "        images = data.reshape(num_images, rows, cols)\n",
    "\n",
    "    if normalize:\n",
    "        images = images.astype(np.float32) / 255.0\n",
    "\n",
    "    return images\n",
    "\n",
    "def load_qmnist_labels(tsv_filename):\n",
    "    \"\"\"\n",
    "    Load labels (digit only, column 0) from QMNIST TSV into a NumPy array.\n",
    "    \"\"\"\n",
    "    labels = np.loadtxt(tsv_filename, dtype=np.int64, usecols=(0,))\n",
    "    return labels\n",
    "\n",
    "def show_image(images, labels=None, index=0):\n",
    "    \"\"\"\n",
    "    Display a single image from the dataset.\n",
    "\n",
    "    Parameters\n",
    "    ----------\n",
    "    images : np.ndarray\n",
    "        Array of shape (N, H, W), e.g. QMNIST images.\n",
    "    labels : np.ndarray or None\n",
    "        Optional array of labels. If given, the label is shown in the title.\n",
    "    index : int\n",
    "        Index of the image to display.\n",
    "    \"\"\"\n",
    "    image = images[index]\n",
    "\n",
    "    plt.imshow(image, cmap=\"gray\", interpolation=\"nearest\")\n",
    "    if labels is not None:\n",
    "        plt.title(f\"Label: {labels[index]}\")\n",
    "    else:\n",
    "        plt.title(f\"Image index: {index}\")\n",
    "    plt.axis(\"off\")\n",
    "    plt.show()"
   ]
  },
  {
   "cell_type": "code",
   "execution_count": null,
   "id": "72460beb",
   "metadata": {},
   "outputs": [],
   "source": [
    "path = \"/mnt/c/Users/areg_/Downloads/mnist\"\n",
    "\n",
    "images_train = load_idx3_images(f\"{path}/qmnist-train-images-idx3-ubyte\", normalize=True)\n",
    "labels_train = load_qmnist_labels(f\"{path}/qmnist-train-labels.tsv\")\n",
    "images_test = load_idx3_images(f\"{path}/qmnist-test-images-idx3-ubyte\", normalize=True)\n",
    "labels_test = load_qmnist_labels(f\"{path}/qmnist-test-labels.tsv\")\n",
    "\n",
    "print(\"Training data shape:\", images_train.shape)\n",
    "print(\"Training labels shape:\", labels_train.shape)\n",
    "\n",
    "nn = NeuralNetwork(\n",
    "    layers=[\n",
    "        Dense(784, 128),\n",
    "        ReLU(),\n",
    "        Dense(128, 10),\n",
    "        Softmax()\n",
    "    ],\n",
    "    loss=CrossEntropyLoss(),\n",
    "    optimizer=Optimizer(learning_rate=0.01, optimizer=\"SGD\")\n",
    ")\n",
    "\n",
    "nn.fit(X_train, y_train_one_hot, epochs=10, learning_rate=0.01)\n",
    "predictions = nn.predict(X_test)\n",
    "print(\"Predictions (first 5):\\n\", predictions[:5])\n",
    "\n",
    "predicted_classes = np.argmax(predictions, axis=1)\n",
    "print(\"\\nPredicted classes (first 5):\", predicted_classes[:5])"
   ]
  }
 ],
 "metadata": {
  "language_info": {
   "name": "python"
  }
 },
 "nbformat": 4,
 "nbformat_minor": 5
}
